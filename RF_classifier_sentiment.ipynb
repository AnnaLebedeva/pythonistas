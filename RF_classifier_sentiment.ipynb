{
 "cells": [
  {
   "cell_type": "markdown",
   "id": "714e9578",
   "metadata": {},
   "source": [
    "# Этика бизнеса. Классификация"
   ]
  },
  {
   "cell_type": "markdown",
   "id": "32943f60",
   "metadata": {},
   "source": [
    "Смотрим на данные."
   ]
  },
  {
   "cell_type": "code",
   "execution_count": 1,
   "id": "3874b0db",
   "metadata": {},
   "outputs": [],
   "source": [
    "import pandas as pd\n",
    "from sklearn.feature_extraction.text import TfidfVectorizer\n",
    "from sklearn.feature_extraction.text import CountVectorizer\n",
    "from sklearn.model_selection import train_test_split\n",
    "from sklearn.ensemble import RandomForestClassifier\n",
    "from sklearn.model_selection import cross_val_score\n",
    "from sklearn.metrics import roc_auc_score\n",
    "\n",
    "train_data = pd.read_csv(\"train_bank.csv\", index_col=[0])"
   ]
  },
  {
   "cell_type": "code",
   "execution_count": 14,
   "id": "f721a904",
   "metadata": {},
   "outputs": [
    {
     "data": {
      "text/plain": [
       "(19361, 4)"
      ]
     },
     "execution_count": 14,
     "metadata": {},
     "output_type": "execute_result"
    }
   ],
   "source": [
    "train_data.shape"
   ]
  },
  {
   "cell_type": "code",
   "execution_count": 32,
   "id": "a85ccfff",
   "metadata": {},
   "outputs": [
    {
     "data": {
      "text/html": [
       "<div>\n",
       "<style scoped>\n",
       "    .dataframe tbody tr th:only-of-type {\n",
       "        vertical-align: middle;\n",
       "    }\n",
       "\n",
       "    .dataframe tbody tr th {\n",
       "        vertical-align: top;\n",
       "    }\n",
       "\n",
       "    .dataframe thead th {\n",
       "        text-align: right;\n",
       "    }\n",
       "</style>\n",
       "<table border=\"1\" class=\"dataframe\">\n",
       "  <thead>\n",
       "    <tr style=\"text-align: right;\">\n",
       "      <th></th>\n",
       "      <th>sentence</th>\n",
       "      <th>1category</th>\n",
       "      <th>2category</th>\n",
       "      <th>sentiment</th>\n",
       "    </tr>\n",
       "  </thead>\n",
       "  <tbody>\n",
       "    <tr>\n",
       "      <th>4754</th>\n",
       "      <td>При этом всегда получал качественные услуги.</td>\n",
       "      <td>Communication</td>\n",
       "      <td>NaN</td>\n",
       "      <td>+</td>\n",
       "    </tr>\n",
       "    <tr>\n",
       "      <th>4417</th>\n",
       "      <td>Не вижу, за что хотя бы 2 поставить, сервис на 1!</td>\n",
       "      <td>?</td>\n",
       "      <td>NaN</td>\n",
       "      <td>−</td>\n",
       "    </tr>\n",
       "    <tr>\n",
       "      <th>3629</th>\n",
       "      <td>Вот так \"Мой любимый\" банк МКБ меня обманул.</td>\n",
       "      <td>?</td>\n",
       "      <td>NaN</td>\n",
       "      <td>−</td>\n",
       "    </tr>\n",
       "    <tr>\n",
       "      <th>11640</th>\n",
       "      <td>Отвратительное отношение к клиентам.</td>\n",
       "      <td>Communication</td>\n",
       "      <td>NaN</td>\n",
       "      <td>−</td>\n",
       "    </tr>\n",
       "    <tr>\n",
       "      <th>5571</th>\n",
       "      <td>Всегда в любое время дня и ночи помогут, ответ...</td>\n",
       "      <td>Communication</td>\n",
       "      <td>NaN</td>\n",
       "      <td>+</td>\n",
       "    </tr>\n",
       "    <tr>\n",
       "      <th>...</th>\n",
       "      <td>...</td>\n",
       "      <td>...</td>\n",
       "      <td>...</td>\n",
       "      <td>...</td>\n",
       "    </tr>\n",
       "    <tr>\n",
       "      <th>8004</th>\n",
       "      <td>Никогда и ни в коем случае не открывайте счет ...</td>\n",
       "      <td>Communication</td>\n",
       "      <td>NaN</td>\n",
       "      <td>−</td>\n",
       "    </tr>\n",
       "    <tr>\n",
       "      <th>18182</th>\n",
       "      <td>ТИ откровенно забили на качество и развивают с...</td>\n",
       "      <td>Quality</td>\n",
       "      <td>NaN</td>\n",
       "      <td>−</td>\n",
       "    </tr>\n",
       "    <tr>\n",
       "      <th>744</th>\n",
       "      <td>Я считаю, это прорыв и лидерство финансовых ус...</td>\n",
       "      <td>?</td>\n",
       "      <td>NaN</td>\n",
       "      <td>+</td>\n",
       "    </tr>\n",
       "    <tr>\n",
       "      <th>6220</th>\n",
       "      <td>Писал мужчина очень доходчиво, не финансовым я...</td>\n",
       "      <td>Communication</td>\n",
       "      <td>NaN</td>\n",
       "      <td>+</td>\n",
       "    </tr>\n",
       "    <tr>\n",
       "      <th>8433</th>\n",
       "      <td>Данная ситуация меня сильно выбила из колеи, и...</td>\n",
       "      <td>Communication</td>\n",
       "      <td>NaN</td>\n",
       "      <td>−</td>\n",
       "    </tr>\n",
       "  </tbody>\n",
       "</table>\n",
       "<p>19361 rows × 4 columns</p>\n",
       "</div>"
      ],
      "text/plain": [
       "                                                sentence      1category  \\\n",
       "4754        При этом всегда получал качественные услуги.  Communication   \n",
       "4417   Не вижу, за что хотя бы 2 поставить, сервис на 1!              ?   \n",
       "3629        Вот так \"Мой любимый\" банк МКБ меня обманул.              ?   \n",
       "11640               Отвратительное отношение к клиентам.  Communication   \n",
       "5571   Всегда в любое время дня и ночи помогут, ответ...  Communication   \n",
       "...                                                  ...            ...   \n",
       "8004   Никогда и ни в коем случае не открывайте счет ...  Communication   \n",
       "18182  ТИ откровенно забили на качество и развивают с...        Quality   \n",
       "744    Я считаю, это прорыв и лидерство финансовых ус...              ?   \n",
       "6220   Писал мужчина очень доходчиво, не финансовым я...  Communication   \n",
       "8433   Данная ситуация меня сильно выбила из колеи, и...  Communication   \n",
       "\n",
       "      2category sentiment  \n",
       "4754        NaN         +  \n",
       "4417        NaN         −  \n",
       "3629        NaN         −  \n",
       "11640       NaN         −  \n",
       "5571        NaN         +  \n",
       "...         ...       ...  \n",
       "8004        NaN         −  \n",
       "18182       NaN         −  \n",
       "744         NaN         +  \n",
       "6220        NaN         +  \n",
       "8433        NaN         −  \n",
       "\n",
       "[19361 rows x 4 columns]"
      ]
     },
     "execution_count": 32,
     "metadata": {},
     "output_type": "execute_result"
    }
   ],
   "source": [
    "train_data"
   ]
  },
  {
   "cell_type": "markdown",
   "id": "440fde5b",
   "metadata": {},
   "source": [
    "Предобработка:"
   ]
  },
  {
   "cell_type": "code",
   "execution_count": 7,
   "id": "23d76ac1",
   "metadata": {},
   "outputs": [],
   "source": [
    "corpus = list(train_data.sentence)"
   ]
  },
  {
   "cell_type": "code",
   "execution_count": 8,
   "id": "4d12450b",
   "metadata": {},
   "outputs": [],
   "source": [
    "corpus_lemmatized = []"
   ]
  },
  {
   "cell_type": "code",
   "execution_count": 9,
   "id": "2de0f6f5",
   "metadata": {},
   "outputs": [],
   "source": [
    "# delete punctuation\n",
    "import string\n",
    "from pymorphy2 import MorphAnalyzer\n",
    "\n",
    "def string_preparation(text):\n",
    "    translating = str.maketrans('', '', string.punctuation)\n",
    "    text_without_punctuation = text.translate(translating)\n",
    "    # Lemmatize words in the text\n",
    "    morph = MorphAnalyzer()\n",
    "    lemmas = [morph.parse(word)[0].normal_form for word in text_without_punctuation.split()]\n",
    "    lemmatized_text = ' '.join(lemmas)\n",
    "\n",
    "    return lemmatized_text"
   ]
  },
  {
   "cell_type": "code",
   "execution_count": 13,
   "id": "9cdf7286",
   "metadata": {},
   "outputs": [],
   "source": [
    "for text in corpus:\n",
    "    corpus_lemmatized.append(string_preparation(text))"
   ]
  },
  {
   "cell_type": "code",
   "execution_count": 24,
   "id": "da778059",
   "metadata": {},
   "outputs": [
    {
     "data": {
      "text/plain": [
       "19361"
      ]
     },
     "execution_count": 24,
     "metadata": {},
     "output_type": "execute_result"
    }
   ],
   "source": [
    "len(corpus_lemmatized)"
   ]
  },
  {
   "cell_type": "code",
   "execution_count": 21,
   "id": "29c9b439",
   "metadata": {},
   "outputs": [],
   "source": [
    "# with open(\"corpus_lemmatized.txt\", \"w\") as text_file:\n",
    "#     for line in corpus_lemmatized:\n",
    "#         text_file.write(f\"{line}\\n\")"
   ]
  },
  {
   "cell_type": "code",
   "execution_count": 75,
   "id": "31b33aee",
   "metadata": {},
   "outputs": [
    {
     "name": "stdout",
     "output_type": "stream",
     "text": [
      "При этом всегда получал качественные услуги. \n",
      "\n",
      "при это всегда получать качественный услуга\n"
     ]
    }
   ],
   "source": [
    "print(train_data.sentence[4754],'\\n')\n",
    "print(corpus_lemmatized[0])"
   ]
  },
  {
   "cell_type": "code",
   "execution_count": 90,
   "id": "15281704",
   "metadata": {},
   "outputs": [],
   "source": [
    "# with open(\"corpus_lemmatized.txt\", \"r\") as text_file:\n",
    "#     lines = text_file.readlines()\n",
    "#     for line in lines:\n",
    "#         print(line)\n",
    "#         break"
   ]
  },
  {
   "cell_type": "code",
   "execution_count": 64,
   "id": "92dd8754",
   "metadata": {},
   "outputs": [],
   "source": [
    "from sklearn.preprocessing import LabelEncoder\n",
    "\n",
    "label_encoder = LabelEncoder()\n",
    "y_encoded = label_encoder.fit_transform(train_data.sentiment)"
   ]
  },
  {
   "cell_type": "markdown",
   "id": "a6391edf",
   "metadata": {},
   "source": [
    "Обучение модели:"
   ]
  },
  {
   "cell_type": "code",
   "execution_count": 77,
   "id": "7cab5fd0",
   "metadata": {},
   "outputs": [
    {
     "data": {
      "text/plain": [
       "0.9289697513469962"
      ]
     },
     "execution_count": 77,
     "metadata": {},
     "output_type": "execute_result"
    }
   ],
   "source": [
    "# БЕЗ ЛЕММАТИЗАЦИИ:\n",
    "X = train_data.sentence\n",
    "X_train, X_test, y_train, y_test = train_test_split(X, y_encoded, test_size=0.1, random_state=42, \\\n",
    "                                                    stratify=y_encoded)\n",
    "vectorizer = TfidfVectorizer(max_features = 1000)\n",
    "X_train_vectorized = vectorizer.fit_transform(X_train)\n",
    "X_test_vectorized = vectorizer.transform(X_test)\n",
    "clf = RandomForestClassifier().fit(X_train_vectorized, y_train)\n",
    "y_prob = clf.predict_proba(X_test_vectorized)\n",
    "roc_auc_score(y_test, y_prob, multi_class='ovr')"
   ]
  },
  {
   "cell_type": "code",
   "execution_count": 79,
   "id": "37b31e01",
   "metadata": {},
   "outputs": [
    {
     "data": {
      "text/plain": [
       "0.9293175038630492"
      ]
     },
     "execution_count": 79,
     "metadata": {},
     "output_type": "execute_result"
    }
   ],
   "source": [
    "X = train_data.sentence\n",
    "X_train, X_test, y_train, y_test = train_test_split(X, y_encoded, test_size=0.1, random_state=42, \\\n",
    "                                                   stratify=y_encoded)\n",
    "vectorizer = CountVectorizer(max_features = 1000)\n",
    "X_train_vectorized = vectorizer.fit_transform(X_train)\n",
    "X_test_vectorized = vectorizer.transform(X_test) \n",
    "clf = RandomForestClassifier().fit(X_train_vectorized, y_train)\n",
    "y_prob = clf.predict_proba(X_test_vectorized)\n",
    "roc_auc_score(y_test, y_prob, multi_class='ovr')"
   ]
  },
  {
   "cell_type": "code",
   "execution_count": 80,
   "id": "f087aad0",
   "metadata": {},
   "outputs": [
    {
     "data": {
      "text/plain": [
       "0.9314072548486864"
      ]
     },
     "execution_count": 80,
     "metadata": {},
     "output_type": "execute_result"
    }
   ],
   "source": [
    "# С ЛЕММАТИЗАЦИЕЙ\n",
    "X = corpus_lemmatized\n",
    "X_train, X_test, y_train, y_test = train_test_split(X, y_encoded, test_size=0.1, random_state=42, \\\n",
    "                                                    stratify=y_encoded)\n",
    "vectorizer = TfidfVectorizer(max_features = 1000)\n",
    "X_train_vectorized = vectorizer.fit_transform(X_train)\n",
    "X_test_vectorized = vectorizer.transform(X_test) \n",
    "clf = RandomForestClassifier().fit(X_train_vectorized, y_train)\n",
    "y_prob = clf.predict_proba(X_test_vectorized)\n",
    "roc_auc_score(y_test, y_prob, multi_class='ovr')"
   ]
  },
  {
   "cell_type": "code",
   "execution_count": 81,
   "id": "930016a8",
   "metadata": {},
   "outputs": [
    {
     "data": {
      "text/plain": [
       "0.9332171780918238"
      ]
     },
     "execution_count": 81,
     "metadata": {},
     "output_type": "execute_result"
    }
   ],
   "source": [
    "X = corpus_lemmatized\n",
    "X_train, X_test, y_train, y_test = train_test_split(X, y_encoded, test_size=0.1, random_state=42, \\\n",
    "                                                    stratify=y_encoded)\n",
    "vectorizer = CountVectorizer(max_features = 1000)\n",
    "X_train_vectorized = vectorizer.fit_transform(X_train)\n",
    "X_test_vectorized = vectorizer.transform(X_test) \n",
    "clf = RandomForestClassifier().fit(X_train_vectorized, y_train)\n",
    "y_prob = clf.predict_proba(X_test_vectorized)\n",
    "roc_auc_score(y_test, y_prob, multi_class='ovr')"
   ]
  },
  {
   "cell_type": "markdown",
   "id": "b1481056",
   "metadata": {},
   "source": [
    "Применение на тестовых данных:"
   ]
  },
  {
   "cell_type": "code",
   "execution_count": 86,
   "id": "36c2ff52",
   "metadata": {},
   "outputs": [
    {
     "data": {
      "text/html": [
       "<div>\n",
       "<style scoped>\n",
       "    .dataframe tbody tr th:only-of-type {\n",
       "        vertical-align: middle;\n",
       "    }\n",
       "\n",
       "    .dataframe tbody tr th {\n",
       "        vertical-align: top;\n",
       "    }\n",
       "\n",
       "    .dataframe thead th {\n",
       "        text-align: right;\n",
       "    }\n",
       "</style>\n",
       "<table border=\"1\" class=\"dataframe\">\n",
       "  <thead>\n",
       "    <tr style=\"text-align: right;\">\n",
       "      <th></th>\n",
       "      <th>sentence</th>\n",
       "    </tr>\n",
       "  </thead>\n",
       "  <tbody>\n",
       "    <tr>\n",
       "      <th>0</th>\n",
       "      <td>Очень неприятная ситуация, надеюсь, банк либо ...</td>\n",
       "    </tr>\n",
       "    <tr>\n",
       "      <th>1</th>\n",
       "      <td>За что выражаю благодарность и банку и данному...</td>\n",
       "    </tr>\n",
       "    <tr>\n",
       "      <th>2</th>\n",
       "      <td>Вывод: информация полученная в смс от банка, и...</td>\n",
       "    </tr>\n",
       "    <tr>\n",
       "      <th>3</th>\n",
       "      <td>Хочу по благодарить ее за чуткое отношение к н...</td>\n",
       "    </tr>\n",
       "    <tr>\n",
       "      <th>4</th>\n",
       "      <td>Показал, что я и вклад могу свой пополнять пря...</td>\n",
       "    </tr>\n",
       "    <tr>\n",
       "      <th>...</th>\n",
       "      <td>...</td>\n",
       "    </tr>\n",
       "    <tr>\n",
       "      <th>2147</th>\n",
       "      <td>Верная (по их мнению) ставка 13%.</td>\n",
       "    </tr>\n",
       "    <tr>\n",
       "      <th>2148</th>\n",
       "      <td>Спасибо Промсвязьбанку за гибкий и человечески...</td>\n",
       "    </tr>\n",
       "    <tr>\n",
       "      <th>2149</th>\n",
       "      <td>Это говорит о том, что обслуживание находится ...</td>\n",
       "    </tr>\n",
       "    <tr>\n",
       "      <th>2150</th>\n",
       "      <td>Без платежки ничего не принимают!</td>\n",
       "    </tr>\n",
       "    <tr>\n",
       "      <th>2151</th>\n",
       "      <td>Хочу отметить превосходную работу аналитическо...</td>\n",
       "    </tr>\n",
       "  </tbody>\n",
       "</table>\n",
       "<p>2152 rows × 1 columns</p>\n",
       "</div>"
      ],
      "text/plain": [
       "                                               sentence\n",
       "0     Очень неприятная ситуация, надеюсь, банк либо ...\n",
       "1     За что выражаю благодарность и банку и данному...\n",
       "2     Вывод: информация полученная в смс от банка, и...\n",
       "3     Хочу по благодарить ее за чуткое отношение к н...\n",
       "4     Показал, что я и вклад могу свой пополнять пря...\n",
       "...                                                 ...\n",
       "2147                  Верная (по их мнению) ставка 13%.\n",
       "2148  Спасибо Промсвязьбанку за гибкий и человечески...\n",
       "2149  Это говорит о том, что обслуживание находится ...\n",
       "2150                  Без платежки ничего не принимают!\n",
       "2151  Хочу отметить превосходную работу аналитическо...\n",
       "\n",
       "[2152 rows x 1 columns]"
      ]
     },
     "execution_count": 86,
     "metadata": {},
     "output_type": "execute_result"
    }
   ],
   "source": [
    "test_data = pd.read_csv(\"test_for_participants.csv\", index_col=[0])\n",
    "test_data"
   ]
  },
  {
   "cell_type": "code",
   "execution_count": 87,
   "id": "3dc76525",
   "metadata": {},
   "outputs": [
    {
     "data": {
      "text/plain": [
       "0.9298115313201313"
      ]
     },
     "execution_count": 87,
     "metadata": {},
     "output_type": "execute_result"
    }
   ],
   "source": [
    "X = corpus_lemmatized\n",
    "X_train, X_test, y_train, y_test = train_test_split(X, y_encoded, test_size=0.1, random_state=42, \\\n",
    "                                                    stratify=y_encoded)\n",
    "vectorizer = CountVectorizer(max_features = 1000)\n",
    "X_train_vectorized = vectorizer.fit_transform(X_train)\n",
    "X_test_vectorized = vectorizer.transform(X_test) \n",
    "best_model = RandomForestClassifier().fit(X_train_vectorized, y_train)\n",
    "y_prob = best_model.predict_proba(X_test_vectorized)\n",
    "roc_auc_score(y_test, y_prob, multi_class='ovr')"
   ]
  },
  {
   "cell_type": "code",
   "execution_count": null,
   "id": "068ead93",
   "metadata": {},
   "outputs": [],
   "source": [
    "# preprocess test data\n",
    "corpus_test = list(test_data.sentence)\n",
    "X_test_prep = []\n",
    "for text in corpus_test:\n",
    "    X_test_prep.append(string_preparation(text))\n",
    "X_test_prep"
   ]
  },
  {
   "cell_type": "code",
   "execution_count": 89,
   "id": "d50e748c",
   "metadata": {},
   "outputs": [],
   "source": [
    "with open(\"test_lemmatized.txt\", \"w\") as text_file:\n",
    "    for line in X_test_prep:\n",
    "        text_file.write(f\"{line}\\n\")"
   ]
  },
  {
   "cell_type": "code",
   "execution_count": null,
   "id": "7d692413",
   "metadata": {},
   "outputs": [],
   "source": [
    "X_test_prep_vectorized = vectorizer.fit_transform(X_test_prep)\n",
    "y_prob = best_model.predict_proba(X_test_prep_vectorized)\n",
    "y_prob"
   ]
  },
  {
   "cell_type": "code",
   "execution_count": null,
   "id": "d246b904",
   "metadata": {},
   "outputs": [],
   "source": []
  }
 ],
 "metadata": {
  "kernelspec": {
   "display_name": "Python 3 (ipykernel)",
   "language": "python",
   "name": "python3"
  },
  "language_info": {
   "codemirror_mode": {
    "name": "ipython",
    "version": 3
   },
   "file_extension": ".py",
   "mimetype": "text/x-python",
   "name": "python",
   "nbconvert_exporter": "python",
   "pygments_lexer": "ipython3",
   "version": "3.9.12"
  }
 },
 "nbformat": 4,
 "nbformat_minor": 5
}
