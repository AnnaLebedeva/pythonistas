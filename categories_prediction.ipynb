{
 "cells": [
  {
   "cell_type": "code",
   "execution_count": 2,
   "id": "59368b42",
   "metadata": {
    "cellId": "ncn28uy8dvb6av7x7rlwzc"
   },
   "outputs": [
    {
     "name": "stderr",
     "output_type": "stream",
     "text": [
      "[nltk_data] Downloading package stopwords to\n",
      "[nltk_data]     /home/jupyter/nltk_data...\n",
      "[nltk_data]   Package stopwords is already up-to-date!\n"
     ]
    }
   ],
   "source": [
    "import pandas as pd \n",
    "import numpy as np\n",
    "\n",
    "from sklearn.preprocessing import MultiLabelBinarizer\n",
    "from sklearn.model_selection import StratifiedKFold, GridSearchCV, learning_curve, cross_val_score, train_test_split\n",
    "from sklearn.metrics import make_scorer, f1_score, accuracy_score, classification_report\n",
    "from sklearn.feature_extraction.text import TfidfVectorizer\n",
    "\n",
    "from sklearn.linear_model import LogisticRegression\n",
    "from sklearn.tree import DecisionTreeClassifier\n",
    "from sklearn.ensemble import RandomForestClassifier\n",
    "\n",
    "import seaborn as sns\n",
    "import matplotlib.pyplot as plt\n",
    "%matplotlib inline\n",
    "\n",
    "import nltk \n",
    "nltk.download(\"stopwords\")\n",
    "from nltk.corpus import stopwords"
   ]
  },
  {
   "cell_type": "markdown",
   "id": "2530e19b",
   "metadata": {
    "cellId": "vcyjngrtjlxwohpc4w7f",
    "execution_id": "0ce2ff36-d9f7-4d0d-a1ce-58184acc929d"
   },
   "source": [
    "### Preparing"
   ]
  },
  {
   "cell_type": "code",
   "execution_count": 3,
   "id": "92166f55",
   "metadata": {
    "cellId": "1lk70373em2k9j0jlo3gx"
   },
   "outputs": [],
   "source": [
    "# train dataset\n",
    "df = pd.read_csv(\"datasets/hse_data_science_hack/train.csv\", index_col=[0])\n",
    "\n",
    "# lemmatized sentences\n",
    "with open(\"corpus_lemmatized.txt\", \"r\", encoding=\"utf-8\") as f:\n",
    "    lemmatized = f.readlines()"
   ]
  },
  {
   "cell_type": "markdown",
   "id": "005d4785",
   "metadata": {
    "cellId": "z1recf8uy0q45motlyy7w",
    "execution_id": "3c98b488-028b-4821-b1a4-2b3a2c265892"
   },
   "source": [
    "### Data Preprocessing"
   ]
  },
  {
   "cell_type": "code",
   "execution_count": null,
   "id": "e8795e5e",
   "metadata": {
    "cellId": "bf2q2r7efcm8671oih75jf"
   },
   "outputs": [],
   "source": [
    "stop_words = stopwords.words(\"russian\")"
   ]
  },
  {
   "cell_type": "code",
   "execution_count": null,
   "id": "aa5f0d3e",
   "metadata": {
    "cellId": "vxmd6goiwazfwufewn89s"
   },
   "outputs": [],
   "source": [
    "df[\"sentence_lemmatized\"] = [x.split(\" \") for x in lemmatized]\n",
    "df[\"sentence_lemmatized\"] = [\" \".join([word.strip() for word in sent if word not in stop_words]) for sent in df[\"sentence_lemmatized\"].values]"
   ]
  },
  {
   "cell_type": "markdown",
   "id": "d6b4d254",
   "metadata": {
    "cellId": "4yalj8y1vvbhyz1viysc5w",
    "execution_id": "2b0f226c-7d17-40e9-a6bf-abb869cf52ef"
   },
   "source": [
    "### Target Encoding (Categories)"
   ]
  },
  {
   "cell_type": "code",
   "execution_count": null,
   "id": "b2914ca5",
   "metadata": {
    "cellId": "zgwgqedcu6nx1rok05ec1"
   },
   "outputs": [],
   "source": [
    "df = df[df[\"1category\"] != \"?\"]\n",
    "df[\"1category\"].value_counts()"
   ]
  },
  {
   "cell_type": "code",
   "execution_count": null,
   "id": "4d887362",
   "metadata": {
    "cellId": "vsnf2qbnqjd8zhk4dnxvf"
   },
   "outputs": [],
   "source": [
    "y_categories = []\n",
    "for x, y in zip(df[\"1category\"].values, df[\"2category\"].values):\n",
    "    if y in df[\"2category\"].value_counts():\n",
    "        y_categories.append([x, y])\n",
    "    else:\n",
    "        y_categories.append([x])"
   ]
  },
  {
   "cell_type": "code",
   "execution_count": null,
   "id": "46dd1e38",
   "metadata": {
    "cellId": "azspvax0ahqf6vdw1r6e"
   },
   "outputs": [],
   "source": [
    "mlb = MultiLabelBinarizer()\n",
    "categories_encoded = mlb.fit_transform(y_categories)\n",
    "mlb.classes_"
   ]
  },
  {
   "cell_type": "markdown",
   "id": "a8c3bfa5",
   "metadata": {
    "cellId": "7uz5woypfg438uz7g5emyu",
    "execution_id": "dcc081af-0059-4385-a443-b76413856679"
   },
   "source": [
    "### Vectorizing"
   ]
  },
  {
   "cell_type": "code",
   "execution_count": null,
   "id": "5708bb0d",
   "metadata": {
    "cellId": "9nr7fxt3oyaiw0xxbbd4gb"
   },
   "outputs": [],
   "source": [
    "train_x, test_x, train_y, test_y = train_test_split(df[\"sentence_lemmatized\"], categories_encoded, test_size=0.1, stratify=categories_encoded)"
   ]
  },
  {
   "cell_type": "code",
   "execution_count": null,
   "id": "879aebda",
   "metadata": {
    "cellId": "aq6uf9ns3fgqh8n5k6ofb"
   },
   "outputs": [],
   "source": [
    "vectorizer = TfidfVectorizer()\n",
    "train_x_vct = vectorizer.fit_transform(train_x)\n",
    "test_x_vct = vectorizer.transform(test_x)"
   ]
  },
  {
   "cell_type": "markdown",
   "id": "6fb190c2",
   "metadata": {
    "cellId": "fbd9lzji086fu9s9y1l7hu",
    "execution_id": "765aaba0-224d-44af-8970-7c33dd126114"
   },
   "source": [
    "### Experiments"
   ]
  },
  {
   "cell_type": "markdown",
   "id": "c040e65f",
   "metadata": {
    "cellId": "3mp3qe5z3fxdx9lgx2bwy",
    "execution_id": "67d5ebf7-4822-4c3d-b219-18562cf6c0ad"
   },
   "source": [
    "**При каком количестве деревьев лучший результат?**"
   ]
  },
  {
   "cell_type": "code",
   "execution_count": null,
   "id": "1ca1ae1b",
   "metadata": {
    "cellId": "f4lr8n7rlq88aqlp6vy3h7"
   },
   "outputs": [],
   "source": [
    "train_acc = []\n",
    "test_acc = []\n",
    "temp_train_acc = []\n",
    "temp_test_acc = []\n",
    "estimators_grid = [5, 10, 15, 20, 30, 50, 75, 100, 130]\n",
    "\n",
    "for n in tqdm(estimators_grid):\n",
    "    model = OneVsRestClassifier(RandomForestClassifier(n_estimators=n))\n",
    "    temp_train_acc = []\n",
    "    temp_test_acc = []\n",
    "    model.fit(train_x_vct, train_y)\n",
    "    temp_train_acc.append(model.score(train_x_vct, train_y))\n",
    "    temp_test_acc.append(model.score(test_x_vct, test_y))\n",
    "    train_acc.append(temp_train_acc)\n",
    "    test_acc.append(temp_test_acc)\n",
    "\n",
    "train_acc, test_acc = np.asarray(train_acc), np.asarray(test_acc)\n",
    "print('Best score on cross-validation:', max(test_acc.mean(axis=1)))\n",
    "print('Best performance:', estimators_grid[np.argmax(test_acc.mean(axis=1))])\n",
    "\n",
    "plt.grid()\n",
    "plt.plot(estimators_grid, train_acc.mean(axis=1), 'o-', color='#f4777f', label='Training accuracy')\n",
    "plt.plot(estimators_grid, test_acc.mean(axis=1), 'o-', color='#7eb19c', label='Cross-validation accuracy')\n",
    "plt.fill_between(estimators_grid, train_acc.mean(axis=1) - train_acc.std(axis=1), train_acc.mean(axis=1) + train_acc.std(axis=1), color='#f4777f', alpha=0.1)\n",
    "plt.fill_between(estimators_grid, test_acc.mean(axis=1) - test_acc.std(axis=1), test_acc.mean(axis=1) + test_acc.std(axis=1), color='#7eb19c', alpha=0.1)\n",
    "plt.ylabel('Score')\n",
    "plt.xlabel('Number of estimators')\n",
    "plt.legend(loc='best')\n",
    "plt.show()"
   ]
  },
  {
   "cell_type": "markdown",
   "id": "00442fcc",
   "metadata": {
    "cellId": "aej4i1xecat0xk7ctkfvdan",
    "execution_id": "17f60911-7992-4f66-9333-17f9c82edf06"
   },
   "source": [
    "Наилучший скор при n_estimators=300."
   ]
  },
  {
   "cell_type": "code",
   "execution_count": null,
   "id": "05fb7459",
   "metadata": {
    "cellId": "iqke4fu7whfsk2pjghef4"
   },
   "outputs": [],
   "source": [
    "model = OneVsRestClassifier(RandomForestClassifier(n_estimators=300))\n",
    "model.fit(train_x_vct, train_y)"
   ]
  },
  {
   "cell_type": "code",
   "execution_count": null,
   "id": "6237671c",
   "metadata": {
    "cellId": "q77ia6jti9f21w5zee647s"
   },
   "outputs": [],
   "source": [
    "import pickle\n",
    "model_path = \"/home/jupyter/mnt/s3/cheliki/categories_predictor/rfc.pickle\"\n",
    "with open(model_path, \"wb\") as f:\n",
    "    pickle.dump(model, f)"
   ]
  },
  {
   "cell_type": "code",
   "execution_count": null,
   "id": "f3fd00d3",
   "metadata": {
    "cellId": "bknb2gzp3wsu6hfqg67i7"
   },
   "outputs": [],
   "source": [
    "with open(model_path, \"rb\") as f:\n",
    "    model = pickle.load(f)"
   ]
  },
  {
   "cell_type": "markdown",
   "id": "d2c8602e",
   "metadata": {
    "cellId": "bh277s8cwg2rxsno2z6ug",
    "execution_id": "bdec74d5-67a8-45af-9d41-ceee88a0d75a"
   },
   "source": [
    "Считаем метрику ROC_AUC"
   ]
  },
  {
   "cell_type": "code",
   "execution_count": null,
   "id": "90d88d6c",
   "metadata": {
    "cellId": "tg3tqahmcbn0pnx35iix"
   },
   "outputs": [],
   "source": [
    "test_pred_proba = model.predict_proba(test_x_vct)\n",
    "roc_auc_score(test_y, test_pred_proba)"
   ]
  },
  {
   "cell_type": "markdown",
   "id": "75fae2a5",
   "metadata": {
    "cellId": "exyijl0o8o6khm7c1t7gjk",
    "execution_id": "fdece396-2468-4e17-9510-6b83f615e113"
   },
   "source": [
    "Инференес для submission"
   ]
  },
  {
   "cell_type": "code",
   "execution_count": null,
   "id": "075738ca",
   "metadata": {
    "cellId": "76c916t1ebsfb9neqhpp2i"
   },
   "outputs": [],
   "source": [
    "import string\n",
    "from pymorphy2 import MorphAnalyzer\n",
    "morph = MorphAnalyzer()\n",
    "\n",
    "def string_preparation(text):\n",
    "    translating = str.maketrans('', '', string.punctuation)\n",
    "    text_without_punctuation = text.translate(translating)\n",
    "    # Lemmatize words in the text\n",
    "    lemmas = [morph.parse(word)[0].normal_form for word in text_without_punctuation.split()]\n",
    "    lemmatized_text = ' '.join(lemmas)\n",
    "    return lemmatized_text\n",
    "\n",
    "test_prepared = [string_preparation(text) for text in test_df[\"texts\"].values]\n",
    "\n",
    "tokenized = [x.split(\" \") for x in test_prepared]\n",
    "preprocessed = []\n",
    "for sent in tokenized:\n",
    "    preprocessed.append(\" \".join([word for word in sent if word not in stop_words]))\n",
    "    \n",
    "test_vct = vectorizer.transform(preprocessed)\n",
    "predictions_proba = model.predict_proba(test_vct)\n",
    "\n",
    "communication = []\n",
    "quality = []\n",
    "price = []\n",
    "safety = []\n",
    "second_category = []\n",
    "for x in predictions_proba:\n",
    "    communication.append(x[mlb.classes_.tolist().index(\"Communication\")])\n",
    "    quality.append(x[mlb.classes_.tolist().index(\"Quality\")])\n",
    "    price.append(x[mlb.classes_.tolist().index(\"Price\")])\n",
    "    safety.append(x[mlb.classes_.tolist().index(\"Safety\")])\n",
    "    if x[np.argsort(x)[-2]] > 0.4:\n",
    "        second_category.append(1)\n",
    "    else:\n",
    "        second_category.append(0)"
   ]
  }
 ],
 "metadata": {
  "language_info": {
   "codemirror_mode": {
    "name": "ipython",
    "version": 3
   },
   "file_extension": ".py",
   "mimetype": "text/x-python",
   "name": "python",
   "nbconvert_exporter": "python",
   "pygments_lexer": "ipython3",
   "version": "3.7.7"
  },
  "notebookId": "354b58fd-7364-4265-920e-a7272889d79a",
  "notebookPath": "categories_prediction.ipynb"
 },
 "nbformat": 4,
 "nbformat_minor": 5
}
